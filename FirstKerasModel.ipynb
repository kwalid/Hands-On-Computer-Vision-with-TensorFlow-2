{
  "nbformat": 4,
  "nbformat_minor": 0,
  "metadata": {
    "colab": {
      "name": "FirstKerasModel.ipynb",
      "provenance": [],
      "collapsed_sections": [],
      "include_colab_link": true
    },
    "kernelspec": {
      "name": "python3",
      "display_name": "Python 3"
    }
  },
  "cells": [
    {
      "cell_type": "markdown",
      "metadata": {
        "id": "view-in-github",
        "colab_type": "text"
      },
      "source": [
        "<a href=\"https://colab.research.google.com/github/kwalid/Hands-On-Computer-Vision-with-TensorFlow-2/blob/master/FirstKerasModel.ipynb\" target=\"_parent\"><img src=\"https://colab.research.google.com/assets/colab-badge.svg\" alt=\"Open In Colab\"/></a>"
      ]
    },
    {
      "cell_type": "code",
      "metadata": {
        "id": "w_SlRvcF8OYi",
        "colab_type": "code",
        "colab": {}
      },
      "source": [
        "import numpy as np\n",
        "import tensorflow as tf\n",
        "from numpy import loadtxt\n",
        "from keras.models import Sequential\n",
        "from keras.layers import Dense"
      ],
      "execution_count": 0,
      "outputs": []
    },
    {
      "cell_type": "code",
      "metadata": {
        "id": "NUjW73wI80JZ",
        "colab_type": "code",
        "colab": {
          "base_uri": "https://localhost:8080/",
          "height": 1000
        },
        "outputId": "9b940eba-d9b8-4580-b422-417e0e2f7c87"
      },
      "source": [
        "dataset=loadtxt('https://raw.githubusercontent.com/jbrownlee/Datasets/master/pima-indians-diabetes.data.csv',delimiter=',')\n",
        "x=dataset[:,0:8]\n",
        "y=dataset[:,8]\n",
        "fmodel=Sequential()\n",
        "fmodel.add(Dense(12,input_dim=8,activation='relu'))\n",
        "fmodel.add(Dense(8,activation='relu'))\n",
        "fmodel.add(Dense(1,activation='sigmoid'))\n",
        "fmodel.compile(loss='binary_crossentropy',optimizer='adam', metrics=['accuracy'])\n",
        "fmodel.fit(x,y,epochs=150, validation_split=0.2, shuffle=True, verbose=1,batch_size=10)"
      ],
      "execution_count": 61,
      "outputs": [
        {
          "output_type": "stream",
          "text": [
            "Train on 614 samples, validate on 154 samples\n",
            "Epoch 1/150\n",
            "614/614 [==============================] - 2s 3ms/step - loss: 4.5001 - acc: 0.5521 - val_loss: 3.3680 - val_acc: 0.5000\n",
            "Epoch 2/150\n",
            "614/614 [==============================] - 0s 196us/step - loss: 2.8978 - acc: 0.4984 - val_loss: 2.9094 - val_acc: 0.4351\n",
            "Epoch 3/150\n",
            "614/614 [==============================] - 0s 186us/step - loss: 2.0394 - acc: 0.5277 - val_loss: 2.2877 - val_acc: 0.5065\n",
            "Epoch 4/150\n",
            "614/614 [==============================] - 0s 198us/step - loss: 1.5478 - acc: 0.5733 - val_loss: 1.5535 - val_acc: 0.5649\n",
            "Epoch 5/150\n",
            "614/614 [==============================] - 0s 191us/step - loss: 1.1864 - acc: 0.5912 - val_loss: 1.2440 - val_acc: 0.5519\n",
            "Epoch 6/150\n",
            "614/614 [==============================] - 0s 221us/step - loss: 0.9961 - acc: 0.6336 - val_loss: 1.0445 - val_acc: 0.5065\n",
            "Epoch 7/150\n",
            "614/614 [==============================] - 0s 193us/step - loss: 0.9788 - acc: 0.6319 - val_loss: 1.1961 - val_acc: 0.5779\n",
            "Epoch 8/150\n",
            "614/614 [==============================] - 0s 208us/step - loss: 0.8685 - acc: 0.6612 - val_loss: 1.0349 - val_acc: 0.5325\n",
            "Epoch 9/150\n",
            "614/614 [==============================] - 0s 212us/step - loss: 0.8162 - acc: 0.6596 - val_loss: 0.8784 - val_acc: 0.5325\n",
            "Epoch 10/150\n",
            "614/614 [==============================] - 0s 212us/step - loss: 0.8098 - acc: 0.6759 - val_loss: 0.7700 - val_acc: 0.6169\n",
            "Epoch 11/150\n",
            "614/614 [==============================] - 0s 193us/step - loss: 0.7764 - acc: 0.6580 - val_loss: 0.8248 - val_acc: 0.6883\n",
            "Epoch 12/150\n",
            "614/614 [==============================] - 0s 219us/step - loss: 0.7948 - acc: 0.6775 - val_loss: 0.7354 - val_acc: 0.5844\n",
            "Epoch 13/150\n",
            "614/614 [==============================] - 0s 194us/step - loss: 0.6918 - acc: 0.6873 - val_loss: 0.7188 - val_acc: 0.6299\n",
            "Epoch 14/150\n",
            "614/614 [==============================] - 0s 200us/step - loss: 0.7023 - acc: 0.6889 - val_loss: 0.7140 - val_acc: 0.6558\n",
            "Epoch 15/150\n",
            "614/614 [==============================] - 0s 207us/step - loss: 0.6791 - acc: 0.6971 - val_loss: 0.8541 - val_acc: 0.5390\n",
            "Epoch 16/150\n",
            "614/614 [==============================] - 0s 239us/step - loss: 0.7525 - acc: 0.6824 - val_loss: 0.8776 - val_acc: 0.5974\n",
            "Epoch 17/150\n",
            "614/614 [==============================] - 0s 198us/step - loss: 0.6697 - acc: 0.6808 - val_loss: 0.8988 - val_acc: 0.5390\n",
            "Epoch 18/150\n",
            "614/614 [==============================] - 0s 191us/step - loss: 0.7276 - acc: 0.6808 - val_loss: 0.7413 - val_acc: 0.6753\n",
            "Epoch 19/150\n",
            "614/614 [==============================] - 0s 196us/step - loss: 0.6806 - acc: 0.6629 - val_loss: 0.6717 - val_acc: 0.6623\n",
            "Epoch 20/150\n",
            "614/614 [==============================] - 0s 210us/step - loss: 0.6455 - acc: 0.6873 - val_loss: 0.6889 - val_acc: 0.7013\n",
            "Epoch 21/150\n",
            "614/614 [==============================] - 0s 195us/step - loss: 0.7414 - acc: 0.6743 - val_loss: 0.9544 - val_acc: 0.6688\n",
            "Epoch 22/150\n",
            "614/614 [==============================] - 0s 195us/step - loss: 0.7139 - acc: 0.6726 - val_loss: 0.7699 - val_acc: 0.5584\n",
            "Epoch 23/150\n",
            "614/614 [==============================] - 0s 230us/step - loss: 0.6126 - acc: 0.7052 - val_loss: 0.6618 - val_acc: 0.6818\n",
            "Epoch 24/150\n",
            "614/614 [==============================] - 0s 211us/step - loss: 0.6156 - acc: 0.7150 - val_loss: 0.7622 - val_acc: 0.5844\n",
            "Epoch 25/150\n",
            "614/614 [==============================] - 0s 208us/step - loss: 0.6673 - acc: 0.6857 - val_loss: 0.6607 - val_acc: 0.6883\n",
            "Epoch 26/150\n",
            "614/614 [==============================] - 0s 197us/step - loss: 0.6206 - acc: 0.7117 - val_loss: 0.6978 - val_acc: 0.6623\n",
            "Epoch 27/150\n",
            "614/614 [==============================] - 0s 222us/step - loss: 0.6260 - acc: 0.7020 - val_loss: 0.8194 - val_acc: 0.6688\n",
            "Epoch 28/150\n",
            "614/614 [==============================] - 0s 211us/step - loss: 0.6088 - acc: 0.7182 - val_loss: 0.6624 - val_acc: 0.6299\n",
            "Epoch 29/150\n",
            "614/614 [==============================] - 0s 235us/step - loss: 0.5896 - acc: 0.7134 - val_loss: 0.6669 - val_acc: 0.6688\n",
            "Epoch 30/150\n",
            "614/614 [==============================] - 0s 217us/step - loss: 0.6110 - acc: 0.7085 - val_loss: 0.6504 - val_acc: 0.6883\n",
            "Epoch 31/150\n",
            "614/614 [==============================] - 0s 219us/step - loss: 0.6254 - acc: 0.7036 - val_loss: 0.6518 - val_acc: 0.6753\n",
            "Epoch 32/150\n",
            "614/614 [==============================] - 0s 220us/step - loss: 0.6385 - acc: 0.7020 - val_loss: 0.7634 - val_acc: 0.6039\n",
            "Epoch 33/150\n",
            "614/614 [==============================] - 0s 220us/step - loss: 0.6136 - acc: 0.6922 - val_loss: 0.6625 - val_acc: 0.6948\n",
            "Epoch 34/150\n",
            "614/614 [==============================] - 0s 207us/step - loss: 0.5793 - acc: 0.7280 - val_loss: 0.7388 - val_acc: 0.6688\n",
            "Epoch 35/150\n",
            "614/614 [==============================] - 0s 183us/step - loss: 0.6655 - acc: 0.6857 - val_loss: 0.7326 - val_acc: 0.5584\n",
            "Epoch 36/150\n",
            "614/614 [==============================] - 0s 182us/step - loss: 0.5715 - acc: 0.7248 - val_loss: 0.7157 - val_acc: 0.6688\n",
            "Epoch 37/150\n",
            "614/614 [==============================] - 0s 181us/step - loss: 0.5806 - acc: 0.7182 - val_loss: 0.6452 - val_acc: 0.7143\n",
            "Epoch 38/150\n",
            "614/614 [==============================] - 0s 185us/step - loss: 0.5668 - acc: 0.7231 - val_loss: 0.6359 - val_acc: 0.6948\n",
            "Epoch 39/150\n",
            "614/614 [==============================] - 0s 184us/step - loss: 0.5689 - acc: 0.7150 - val_loss: 0.7534 - val_acc: 0.6818\n",
            "Epoch 40/150\n",
            "614/614 [==============================] - 0s 186us/step - loss: 0.6285 - acc: 0.7068 - val_loss: 1.1906 - val_acc: 0.5260\n",
            "Epoch 41/150\n",
            "614/614 [==============================] - 0s 180us/step - loss: 0.7234 - acc: 0.6792 - val_loss: 0.6288 - val_acc: 0.6948\n",
            "Epoch 42/150\n",
            "614/614 [==============================] - 0s 179us/step - loss: 0.6432 - acc: 0.6873 - val_loss: 0.7219 - val_acc: 0.6039\n",
            "Epoch 43/150\n",
            "614/614 [==============================] - 0s 191us/step - loss: 0.5780 - acc: 0.7248 - val_loss: 0.6481 - val_acc: 0.6818\n",
            "Epoch 44/150\n",
            "614/614 [==============================] - 0s 182us/step - loss: 0.5923 - acc: 0.7248 - val_loss: 0.6414 - val_acc: 0.6948\n",
            "Epoch 45/150\n",
            "614/614 [==============================] - 0s 184us/step - loss: 0.5689 - acc: 0.6987 - val_loss: 0.6307 - val_acc: 0.7143\n",
            "Epoch 46/150\n",
            "614/614 [==============================] - 0s 220us/step - loss: 0.5785 - acc: 0.7117 - val_loss: 0.6445 - val_acc: 0.7013\n",
            "Epoch 47/150\n",
            "614/614 [==============================] - 0s 195us/step - loss: 0.5944 - acc: 0.7020 - val_loss: 0.6745 - val_acc: 0.6299\n",
            "Epoch 48/150\n",
            "614/614 [==============================] - 0s 186us/step - loss: 0.5745 - acc: 0.7199 - val_loss: 0.6197 - val_acc: 0.7208\n",
            "Epoch 49/150\n",
            "614/614 [==============================] - 0s 181us/step - loss: 0.5611 - acc: 0.7362 - val_loss: 0.7350 - val_acc: 0.6299\n",
            "Epoch 50/150\n",
            "614/614 [==============================] - 0s 179us/step - loss: 0.5484 - acc: 0.7362 - val_loss: 0.6309 - val_acc: 0.6558\n",
            "Epoch 51/150\n",
            "614/614 [==============================] - 0s 192us/step - loss: 0.6209 - acc: 0.7003 - val_loss: 0.6228 - val_acc: 0.6818\n",
            "Epoch 52/150\n",
            "614/614 [==============================] - 0s 200us/step - loss: 0.6217 - acc: 0.6808 - val_loss: 0.6311 - val_acc: 0.7013\n",
            "Epoch 53/150\n",
            "614/614 [==============================] - 0s 189us/step - loss: 0.5697 - acc: 0.7101 - val_loss: 0.6268 - val_acc: 0.7143\n",
            "Epoch 54/150\n",
            "614/614 [==============================] - 0s 216us/step - loss: 0.5936 - acc: 0.7052 - val_loss: 0.7651 - val_acc: 0.5260\n",
            "Epoch 55/150\n",
            "614/614 [==============================] - 0s 189us/step - loss: 0.6236 - acc: 0.7020 - val_loss: 0.7195 - val_acc: 0.7078\n",
            "Epoch 56/150\n",
            "614/614 [==============================] - 0s 195us/step - loss: 0.5806 - acc: 0.7231 - val_loss: 0.6801 - val_acc: 0.7078\n",
            "Epoch 57/150\n",
            "614/614 [==============================] - 0s 198us/step - loss: 0.5850 - acc: 0.7166 - val_loss: 0.7284 - val_acc: 0.6753\n",
            "Epoch 58/150\n",
            "614/614 [==============================] - 0s 197us/step - loss: 0.5714 - acc: 0.7117 - val_loss: 0.8834 - val_acc: 0.4935\n",
            "Epoch 59/150\n",
            "614/614 [==============================] - 0s 179us/step - loss: 0.5627 - acc: 0.7036 - val_loss: 0.6089 - val_acc: 0.7208\n",
            "Epoch 60/150\n",
            "614/614 [==============================] - 0s 184us/step - loss: 0.5824 - acc: 0.7101 - val_loss: 0.6510 - val_acc: 0.6494\n",
            "Epoch 61/150\n",
            "614/614 [==============================] - 0s 183us/step - loss: 0.5540 - acc: 0.7264 - val_loss: 0.6215 - val_acc: 0.6753\n",
            "Epoch 62/150\n",
            "614/614 [==============================] - 0s 181us/step - loss: 0.5574 - acc: 0.7248 - val_loss: 0.6747 - val_acc: 0.7078\n",
            "Epoch 63/150\n",
            "614/614 [==============================] - 0s 180us/step - loss: 0.5899 - acc: 0.7085 - val_loss: 0.6572 - val_acc: 0.6429\n",
            "Epoch 64/150\n",
            "614/614 [==============================] - 0s 187us/step - loss: 0.5670 - acc: 0.7231 - val_loss: 0.8376 - val_acc: 0.5455\n",
            "Epoch 65/150\n",
            "614/614 [==============================] - 0s 191us/step - loss: 0.5558 - acc: 0.7264 - val_loss: 0.6298 - val_acc: 0.6623\n",
            "Epoch 66/150\n",
            "614/614 [==============================] - 0s 189us/step - loss: 0.5845 - acc: 0.7280 - val_loss: 0.6022 - val_acc: 0.7013\n",
            "Epoch 67/150\n",
            "614/614 [==============================] - 0s 189us/step - loss: 0.5714 - acc: 0.7166 - val_loss: 0.6510 - val_acc: 0.6494\n",
            "Epoch 68/150\n",
            "614/614 [==============================] - 0s 197us/step - loss: 0.5502 - acc: 0.7215 - val_loss: 0.6291 - val_acc: 0.6494\n",
            "Epoch 69/150\n",
            "614/614 [==============================] - 0s 194us/step - loss: 0.5345 - acc: 0.7443 - val_loss: 0.6400 - val_acc: 0.6883\n",
            "Epoch 70/150\n",
            "614/614 [==============================] - 0s 198us/step - loss: 0.5460 - acc: 0.7313 - val_loss: 0.6434 - val_acc: 0.6948\n",
            "Epoch 71/150\n",
            "614/614 [==============================] - 0s 190us/step - loss: 0.5387 - acc: 0.7296 - val_loss: 0.7310 - val_acc: 0.6558\n",
            "Epoch 72/150\n",
            "614/614 [==============================] - 0s 186us/step - loss: 0.5646 - acc: 0.7264 - val_loss: 0.7233 - val_acc: 0.6688\n",
            "Epoch 73/150\n",
            "614/614 [==============================] - 0s 215us/step - loss: 0.5709 - acc: 0.7199 - val_loss: 0.6338 - val_acc: 0.6558\n",
            "Epoch 74/150\n",
            "614/614 [==============================] - 0s 188us/step - loss: 0.5592 - acc: 0.7101 - val_loss: 0.6655 - val_acc: 0.7078\n",
            "Epoch 75/150\n",
            "614/614 [==============================] - 0s 179us/step - loss: 0.5532 - acc: 0.7264 - val_loss: 0.6459 - val_acc: 0.7013\n",
            "Epoch 76/150\n",
            "614/614 [==============================] - 0s 179us/step - loss: 0.5173 - acc: 0.7280 - val_loss: 0.7314 - val_acc: 0.5714\n",
            "Epoch 77/150\n",
            "614/614 [==============================] - 0s 182us/step - loss: 0.5587 - acc: 0.7166 - val_loss: 0.6453 - val_acc: 0.6753\n",
            "Epoch 78/150\n",
            "614/614 [==============================] - 0s 213us/step - loss: 0.5445 - acc: 0.7215 - val_loss: 0.6221 - val_acc: 0.6818\n",
            "Epoch 79/150\n",
            "614/614 [==============================] - 0s 182us/step - loss: 0.5688 - acc: 0.7199 - val_loss: 0.6403 - val_acc: 0.5974\n",
            "Epoch 80/150\n",
            "614/614 [==============================] - 0s 196us/step - loss: 0.5574 - acc: 0.7264 - val_loss: 0.6446 - val_acc: 0.6688\n",
            "Epoch 81/150\n",
            "614/614 [==============================] - 0s 182us/step - loss: 0.5173 - acc: 0.7362 - val_loss: 0.5981 - val_acc: 0.7013\n",
            "Epoch 82/150\n",
            "614/614 [==============================] - 0s 185us/step - loss: 0.5162 - acc: 0.7345 - val_loss: 0.6198 - val_acc: 0.7078\n",
            "Epoch 83/150\n",
            "614/614 [==============================] - 0s 186us/step - loss: 0.5388 - acc: 0.7296 - val_loss: 0.6055 - val_acc: 0.6948\n",
            "Epoch 84/150\n",
            "614/614 [==============================] - 0s 191us/step - loss: 0.5090 - acc: 0.7476 - val_loss: 0.6113 - val_acc: 0.6883\n",
            "Epoch 85/150\n",
            "614/614 [==============================] - 0s 190us/step - loss: 0.5193 - acc: 0.7427 - val_loss: 0.6737 - val_acc: 0.6623\n",
            "Epoch 86/150\n",
            "614/614 [==============================] - 0s 188us/step - loss: 0.5166 - acc: 0.7622 - val_loss: 0.6029 - val_acc: 0.7013\n",
            "Epoch 87/150\n",
            "614/614 [==============================] - 0s 208us/step - loss: 0.5009 - acc: 0.7508 - val_loss: 0.6858 - val_acc: 0.6104\n",
            "Epoch 88/150\n",
            "614/614 [==============================] - 0s 194us/step - loss: 0.5533 - acc: 0.7280 - val_loss: 0.6020 - val_acc: 0.7273\n",
            "Epoch 89/150\n",
            "614/614 [==============================] - 0s 188us/step - loss: 0.5357 - acc: 0.7378 - val_loss: 0.6073 - val_acc: 0.7143\n",
            "Epoch 90/150\n",
            "614/614 [==============================] - 0s 181us/step - loss: 0.5444 - acc: 0.7329 - val_loss: 0.7028 - val_acc: 0.5779\n",
            "Epoch 91/150\n",
            "614/614 [==============================] - 0s 184us/step - loss: 0.5728 - acc: 0.7296 - val_loss: 0.6118 - val_acc: 0.7078\n",
            "Epoch 92/150\n",
            "614/614 [==============================] - 0s 184us/step - loss: 0.5246 - acc: 0.7378 - val_loss: 0.6042 - val_acc: 0.7143\n",
            "Epoch 93/150\n",
            "614/614 [==============================] - 0s 186us/step - loss: 0.5275 - acc: 0.7427 - val_loss: 0.6091 - val_acc: 0.7013\n",
            "Epoch 94/150\n",
            "614/614 [==============================] - 0s 186us/step - loss: 0.4983 - acc: 0.7541 - val_loss: 0.6571 - val_acc: 0.7143\n",
            "Epoch 95/150\n",
            "614/614 [==============================] - 0s 217us/step - loss: 0.5488 - acc: 0.7345 - val_loss: 0.6109 - val_acc: 0.7143\n",
            "Epoch 96/150\n",
            "614/614 [==============================] - 0s 183us/step - loss: 0.5076 - acc: 0.7443 - val_loss: 0.5984 - val_acc: 0.7273\n",
            "Epoch 97/150\n",
            "614/614 [==============================] - 0s 195us/step - loss: 0.5392 - acc: 0.7296 - val_loss: 0.5938 - val_acc: 0.7013\n",
            "Epoch 98/150\n",
            "614/614 [==============================] - 0s 187us/step - loss: 0.5256 - acc: 0.7508 - val_loss: 0.5906 - val_acc: 0.7208\n",
            "Epoch 99/150\n",
            "614/614 [==============================] - 0s 191us/step - loss: 0.5240 - acc: 0.7622 - val_loss: 0.5932 - val_acc: 0.7338\n",
            "Epoch 100/150\n",
            "614/614 [==============================] - 0s 184us/step - loss: 0.5812 - acc: 0.7394 - val_loss: 0.6045 - val_acc: 0.7273\n",
            "Epoch 101/150\n",
            "614/614 [==============================] - 0s 185us/step - loss: 0.5405 - acc: 0.7362 - val_loss: 0.6534 - val_acc: 0.6558\n",
            "Epoch 102/150\n",
            "614/614 [==============================] - 0s 190us/step - loss: 0.5474 - acc: 0.7215 - val_loss: 0.6764 - val_acc: 0.6883\n",
            "Epoch 103/150\n",
            "614/614 [==============================] - 0s 183us/step - loss: 0.5148 - acc: 0.7443 - val_loss: 0.5849 - val_acc: 0.7338\n",
            "Epoch 104/150\n",
            "614/614 [==============================] - 0s 195us/step - loss: 0.5067 - acc: 0.7476 - val_loss: 0.5963 - val_acc: 0.7208\n",
            "Epoch 105/150\n",
            "614/614 [==============================] - 0s 191us/step - loss: 0.5313 - acc: 0.7557 - val_loss: 0.5896 - val_acc: 0.7273\n",
            "Epoch 106/150\n",
            "614/614 [==============================] - 0s 195us/step - loss: 0.5231 - acc: 0.7573 - val_loss: 0.7969 - val_acc: 0.5260\n",
            "Epoch 107/150\n",
            "614/614 [==============================] - 0s 185us/step - loss: 0.5626 - acc: 0.7215 - val_loss: 0.7073 - val_acc: 0.6364\n",
            "Epoch 108/150\n",
            "614/614 [==============================] - 0s 195us/step - loss: 0.5233 - acc: 0.7573 - val_loss: 0.6242 - val_acc: 0.7143\n",
            "Epoch 109/150\n",
            "614/614 [==============================] - 0s 188us/step - loss: 0.5562 - acc: 0.7541 - val_loss: 0.5953 - val_acc: 0.7143\n",
            "Epoch 110/150\n",
            "614/614 [==============================] - 0s 197us/step - loss: 0.4858 - acc: 0.7606 - val_loss: 0.6002 - val_acc: 0.7143\n",
            "Epoch 111/150\n",
            "614/614 [==============================] - 0s 239us/step - loss: 0.5003 - acc: 0.7687 - val_loss: 0.6569 - val_acc: 0.6753\n",
            "Epoch 112/150\n",
            "614/614 [==============================] - 0s 186us/step - loss: 0.4905 - acc: 0.7557 - val_loss: 0.6135 - val_acc: 0.6883\n",
            "Epoch 113/150\n",
            "614/614 [==============================] - 0s 204us/step - loss: 0.4960 - acc: 0.7622 - val_loss: 0.5834 - val_acc: 0.7143\n",
            "Epoch 114/150\n",
            "614/614 [==============================] - 0s 187us/step - loss: 0.5021 - acc: 0.7476 - val_loss: 0.6587 - val_acc: 0.7013\n",
            "Epoch 115/150\n",
            "614/614 [==============================] - 0s 199us/step - loss: 0.5133 - acc: 0.7329 - val_loss: 0.6058 - val_acc: 0.7078\n",
            "Epoch 116/150\n",
            "614/614 [==============================] - 0s 211us/step - loss: 0.4839 - acc: 0.7736 - val_loss: 0.6145 - val_acc: 0.7013\n",
            "Epoch 117/150\n",
            "614/614 [==============================] - 0s 192us/step - loss: 0.5022 - acc: 0.7508 - val_loss: 0.6029 - val_acc: 0.7273\n",
            "Epoch 118/150\n",
            "614/614 [==============================] - 0s 190us/step - loss: 0.4881 - acc: 0.7590 - val_loss: 0.6245 - val_acc: 0.7013\n",
            "Epoch 119/150\n",
            "614/614 [==============================] - 0s 184us/step - loss: 0.4959 - acc: 0.7508 - val_loss: 0.6317 - val_acc: 0.7013\n",
            "Epoch 120/150\n",
            "614/614 [==============================] - 0s 204us/step - loss: 0.5074 - acc: 0.7362 - val_loss: 0.7362 - val_acc: 0.6688\n",
            "Epoch 121/150\n",
            "614/614 [==============================] - 0s 186us/step - loss: 0.5165 - acc: 0.7492 - val_loss: 0.5992 - val_acc: 0.7143\n",
            "Epoch 122/150\n",
            "614/614 [==============================] - 0s 188us/step - loss: 0.5188 - acc: 0.7378 - val_loss: 0.6459 - val_acc: 0.7143\n",
            "Epoch 123/150\n",
            "614/614 [==============================] - 0s 194us/step - loss: 0.5350 - acc: 0.7508 - val_loss: 0.5804 - val_acc: 0.7208\n",
            "Epoch 124/150\n",
            "614/614 [==============================] - 0s 184us/step - loss: 0.4908 - acc: 0.7541 - val_loss: 0.5899 - val_acc: 0.7208\n",
            "Epoch 125/150\n",
            "614/614 [==============================] - 0s 192us/step - loss: 0.5257 - acc: 0.7313 - val_loss: 0.6358 - val_acc: 0.7078\n",
            "Epoch 126/150\n",
            "614/614 [==============================] - 0s 181us/step - loss: 0.5357 - acc: 0.7410 - val_loss: 0.5953 - val_acc: 0.7208\n",
            "Epoch 127/150\n",
            "614/614 [==============================] - 0s 187us/step - loss: 0.4957 - acc: 0.7443 - val_loss: 0.6445 - val_acc: 0.6883\n",
            "Epoch 128/150\n",
            "614/614 [==============================] - 0s 192us/step - loss: 0.4933 - acc: 0.7655 - val_loss: 0.7167 - val_acc: 0.6753\n",
            "Epoch 129/150\n",
            "614/614 [==============================] - 0s 200us/step - loss: 0.5199 - acc: 0.7524 - val_loss: 0.6226 - val_acc: 0.7013\n",
            "Epoch 130/150\n",
            "614/614 [==============================] - 0s 181us/step - loss: 0.5454 - acc: 0.7443 - val_loss: 0.5978 - val_acc: 0.7208\n",
            "Epoch 131/150\n",
            "614/614 [==============================] - 0s 207us/step - loss: 0.4782 - acc: 0.7752 - val_loss: 0.6489 - val_acc: 0.6753\n",
            "Epoch 132/150\n",
            "614/614 [==============================] - 0s 195us/step - loss: 0.5394 - acc: 0.7362 - val_loss: 0.6464 - val_acc: 0.7078\n",
            "Epoch 133/150\n",
            "614/614 [==============================] - 0s 200us/step - loss: 0.5027 - acc: 0.7606 - val_loss: 0.6155 - val_acc: 0.7143\n",
            "Epoch 134/150\n",
            "614/614 [==============================] - 0s 220us/step - loss: 0.4829 - acc: 0.7736 - val_loss: 0.5856 - val_acc: 0.7532\n",
            "Epoch 135/150\n",
            "614/614 [==============================] - 0s 185us/step - loss: 0.5333 - acc: 0.7557 - val_loss: 0.5876 - val_acc: 0.7468\n",
            "Epoch 136/150\n",
            "614/614 [==============================] - 0s 194us/step - loss: 0.5095 - acc: 0.7573 - val_loss: 0.5959 - val_acc: 0.7273\n",
            "Epoch 137/150\n",
            "614/614 [==============================] - 0s 184us/step - loss: 0.5023 - acc: 0.7590 - val_loss: 0.6324 - val_acc: 0.6818\n",
            "Epoch 138/150\n",
            "614/614 [==============================] - 0s 185us/step - loss: 0.4863 - acc: 0.7573 - val_loss: 0.6584 - val_acc: 0.7078\n",
            "Epoch 139/150\n",
            "614/614 [==============================] - 0s 179us/step - loss: 0.4792 - acc: 0.7704 - val_loss: 0.6143 - val_acc: 0.7078\n",
            "Epoch 140/150\n",
            "614/614 [==============================] - 0s 212us/step - loss: 0.5597 - acc: 0.7199 - val_loss: 0.6575 - val_acc: 0.6688\n",
            "Epoch 141/150\n",
            "614/614 [==============================] - 0s 186us/step - loss: 0.5009 - acc: 0.7459 - val_loss: 0.6770 - val_acc: 0.7273\n",
            "Epoch 142/150\n",
            "614/614 [==============================] - 0s 188us/step - loss: 0.5118 - acc: 0.7541 - val_loss: 0.5784 - val_acc: 0.7597\n",
            "Epoch 143/150\n",
            "614/614 [==============================] - 0s 191us/step - loss: 0.5083 - acc: 0.7524 - val_loss: 0.6361 - val_acc: 0.7078\n",
            "Epoch 144/150\n",
            "614/614 [==============================] - 0s 187us/step - loss: 0.5074 - acc: 0.7590 - val_loss: 0.6043 - val_acc: 0.7273\n",
            "Epoch 145/150\n",
            "614/614 [==============================] - 0s 186us/step - loss: 0.4734 - acc: 0.7720 - val_loss: 0.5962 - val_acc: 0.7403\n",
            "Epoch 146/150\n",
            "614/614 [==============================] - 0s 185us/step - loss: 0.4868 - acc: 0.7720 - val_loss: 0.6184 - val_acc: 0.7338\n",
            "Epoch 147/150\n",
            "614/614 [==============================] - 0s 188us/step - loss: 0.4736 - acc: 0.7834 - val_loss: 0.6387 - val_acc: 0.7013\n",
            "Epoch 148/150\n",
            "614/614 [==============================] - 0s 178us/step - loss: 0.4889 - acc: 0.7557 - val_loss: 0.5917 - val_acc: 0.7208\n",
            "Epoch 149/150\n",
            "614/614 [==============================] - 0s 196us/step - loss: 0.4917 - acc: 0.7655 - val_loss: 0.5822 - val_acc: 0.7597\n",
            "Epoch 150/150\n",
            "614/614 [==============================] - 0s 179us/step - loss: 0.4743 - acc: 0.7752 - val_loss: 0.5779 - val_acc: 0.7597\n"
          ],
          "name": "stdout"
        },
        {
          "output_type": "execute_result",
          "data": {
            "text/plain": [
              "<keras.callbacks.History at 0x7f4a71d5af60>"
            ]
          },
          "metadata": {
            "tags": []
          },
          "execution_count": 61
        }
      ]
    },
    {
      "cell_type": "code",
      "metadata": {
        "id": "Q0Zd0P5VLyKe",
        "colab_type": "code",
        "colab": {
          "base_uri": "https://localhost:8080/",
          "height": 51
        },
        "outputId": "678237ea-66e4-4fc0-99fe-05a5a79fa86f"
      },
      "source": [
        "print(x.shape)\n",
        "print (y.shape)"
      ],
      "execution_count": 62,
      "outputs": [
        {
          "output_type": "stream",
          "text": [
            "(768, 8)\n",
            "(768,)\n"
          ],
          "name": "stdout"
        }
      ]
    },
    {
      "cell_type": "code",
      "metadata": {
        "id": "DtWfSJZbVAG0",
        "colab_type": "code",
        "colab": {
          "base_uri": "https://localhost:8080/",
          "height": 34
        },
        "outputId": "eaa3e531-361f-4454-c08f-e59afc234bc9"
      },
      "source": [
        "ls,acc=fmodel.evaluate(x,y,verbose=0)\n",
        "acc"
      ],
      "execution_count": 63,
      "outputs": [
        {
          "output_type": "execute_result",
          "data": {
            "text/plain": [
              "0.7864583333333334"
            ]
          },
          "metadata": {
            "tags": []
          },
          "execution_count": 63
        }
      ]
    },
    {
      "cell_type": "code",
      "metadata": {
        "id": "M-Vno9jpHCkw",
        "colab_type": "code",
        "colab": {
          "base_uri": "https://localhost:8080/",
          "height": 255
        },
        "outputId": "222effb5-32c4-4893-f60b-1cdb54a5147f"
      },
      "source": [
        "fmodel.summary()"
      ],
      "execution_count": 64,
      "outputs": [
        {
          "output_type": "stream",
          "text": [
            "Model: \"sequential_23\"\n",
            "_________________________________________________________________\n",
            "Layer (type)                 Output Shape              Param #   \n",
            "=================================================================\n",
            "dense_59 (Dense)             (None, 12)                108       \n",
            "_________________________________________________________________\n",
            "dense_60 (Dense)             (None, 8)                 104       \n",
            "_________________________________________________________________\n",
            "dense_61 (Dense)             (None, 1)                 9         \n",
            "=================================================================\n",
            "Total params: 221\n",
            "Trainable params: 221\n",
            "Non-trainable params: 0\n",
            "_________________________________________________________________\n"
          ],
          "name": "stdout"
        }
      ]
    },
    {
      "cell_type": "code",
      "metadata": {
        "id": "7ERKDHMsWXLz",
        "colab_type": "code",
        "colab": {}
      },
      "source": [
        "predictionsTable=fmodel.predict(x)"
      ],
      "execution_count": 0,
      "outputs": []
    },
    {
      "cell_type": "code",
      "metadata": {
        "id": "EYnRIgbDWeJr",
        "colab_type": "code",
        "colab": {}
      },
      "source": [
        "seed = 7\n",
        "numpy.random.seed(seed)\n",
        "rounded = [np.rint(i) for i in predictionsTable]\n",
        "for j in range(len(predictionsTable)):\n",
        "  print(j,\"---------------->\",rounded[j],\"---------------->\",y[j])"
      ],
      "execution_count": 0,
      "outputs": []
    },
    {
      "cell_type": "code",
      "metadata": {
        "id": "pkYqzsivovJk",
        "colab_type": "code",
        "colab": {}
      },
      "source": [
        "from keras.datasets import mnist\n",
        "(xtrain,ytrain),(xtest,ytest)=mnist.load_data()"
      ],
      "execution_count": 0,
      "outputs": []
    },
    {
      "cell_type": "code",
      "metadata": {
        "id": "Un0Oszmato-g",
        "colab_type": "code",
        "colab": {}
      },
      "source": [
        "xtrain[0].shape"
      ],
      "execution_count": 0,
      "outputs": []
    },
    {
      "cell_type": "code",
      "metadata": {
        "id": "FPPUH9z8uZJW",
        "colab_type": "code",
        "colab": {
          "base_uri": "https://localhost:8080/",
          "height": 282
        },
        "outputId": "0f461a9f-557b-4cc3-bbd7-11425df27613"
      },
      "source": [
        "import matplotlib.pyplot as plt\n",
        "plt.imshow(xtrain[0])"
      ],
      "execution_count": 88,
      "outputs": [
        {
          "output_type": "execute_result",
          "data": {
            "text/plain": [
              "<matplotlib.image.AxesImage at 0x7f4a71bf4cf8>"
            ]
          },
          "metadata": {
            "tags": []
          },
          "execution_count": 88
        },
        {
          "output_type": "display_data",
          "data": {
            "image/png": "[encoded data removed]",
            "text/plain": [
              "<Figure size 432x288 with 1 Axes>"
            ]
          },
          "metadata": {
            "tags": []
          }
        }
      ]
    }
  ]
}